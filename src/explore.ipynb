{
    "cells": [
        {
            "cell_type": "markdown",
            "metadata": {},
            "source": [
                "# Explore here"
            ]
        },
        {
            "cell_type": "code",
            "execution_count": null,
            "metadata": {},
            "outputs": [],
            "source": [
                "from pickle import load\n",
                "import streamlit as st\n",
                "import pandas as pd\n",
                "from sklearn.feature_extraction.text import TfidfVectorizer\n",
                "\n",
                "\n",
                "model = load(open('nn_6_auto_cosine.model', 'rb'))\n",
                "df = pd.read_excel('../data/datos_merged_1986_2023.xlsx')\n",
                "df['year_s'] = df['year'].astype(str)\n",
                "df['duration_ms_s'] = df['duration_ms'].astype(str)\n",
                "df['popularity_s'] = df['popularity'].astype(str)\n",
                "\n",
                "df['tags'] = df['track_name'] + \" \" + df['popularity_s']+ \" \"+ df['duration_ms_s'] \\\n",
                "    + \" \" + df['artist_genres']+ \" \" + df['year_s']\n",
                "df['tags'] = df['tags'].apply(lambda x: str(x).replace(\";\",\" \"))\n",
                "\n",
                "vectorizer = TfidfVectorizer()\n",
                "tfidf_matrix = vectorizer.fit_transform(df['tags'])\n",
                "\n",
                "def lista_canciones(cancion):\n",
                "    indice_cancion = df[df['track_name'] == cancion].index[0]\n",
                "    distancia, indices = model.kneighbors(tfidf_matrix[indice_cancion])\n",
                "    canciones_similares = [(df['track_name'][i], distancia[0][j]) for j, i in enumerate(indices[0])]\n",
                "    return canciones_similares[1:]\n",
                "\n",
                "def str_canciones_recomendadas(cancion_input):\n",
                "    recomendaciones = lista_canciones(cancion_input)\n",
                "    resultado = \"Recomendaciones para \" + cancion_input + \"<br />\"\n",
                "    for i, (cancion, distancia) in enumerate(recomendaciones, start=1):\n",
                "        resultado += f\"{i}. Canción: {cancion}<br />\"\n",
                "    return resultado\n",
                "\n",
                "\n",
                "\n",
                "# Crear la interfaz de Streamlit\n",
                "st.title(\"Recomendación de Canciones\")\n",
                "cancion_input = st.text_input(\"Introduce el nombre de una canción:\", \"\")\n",
                "if st.button(\"Obtener Recomendaciones\"):\n",
                "    recomendaciones = str_canciones_recomendadas(cancion_input)\n",
                "    st.markdown(recomendaciones, unsafe_allow_html=True)"
            ]
        }
    ],
    "metadata": {
        "kernelspec": {
            "display_name": "Python 3.8.13 64-bit ('3.8.13')",
            "language": "python",
            "name": "python3"
        },
        "language_info": {
            "codemirror_mode": {
                "name": "ipython",
                "version": 3
            },
            "file_extension": ".py",
            "mimetype": "text/x-python",
            "name": "python",
            "nbconvert_exporter": "python",
            "pygments_lexer": "ipython3",
            "version": "3.10.12"
        },
        "orig_nbformat": 4,
        "vscode": {
            "interpreter": {
                "hash": "110cc1dee26208153f2972f08a2ad52b6a56238dc66d48e87fb757ef2996db56"
            }
        }
    },
    "nbformat": 4,
    "nbformat_minor": 2
}
